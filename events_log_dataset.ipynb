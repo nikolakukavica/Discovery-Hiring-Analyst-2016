{
 "cells": [
  {
   "cell_type": "markdown",
   "metadata": {},
   "source": [
    "\n",
    "# Data Analysis Task\n",
    "\n",
    "## Background\n",
    "\n",
    "*Event logging* (EL) is used to track a variety of performance and usage metrics to help on the decision making process. Specifically, the most used metrics are:\n",
    "\n",
    "- *clickthrough rate*: the proportion of search sessions where the user clicked on one of the results displayed\n",
    "- *zero results rate*: the proportion of searches that yielded 0 results\n",
    "\n",
    "and other metrics outside the scope of this task. EL uses JavaScript to asynchronously send messages (events) to the servers when the user has performed specific actions. In this task, you will analyze a subset of our event logs.\n",
    "\n",
    "## Task\n",
    "\n",
    "You must create a **reproducible report**\\* answering the following questions:\n",
    "\n",
    "1. What is the daily overall clickthrough rate? How does it vary between the groups?\n",
    "2. Which results do people tend to try first? How does it change day-to-day?\n",
    "3. What is the daily overall zero results rate? How does it vary between the groups?\n",
    "4. Let *session length* be approximately the time between the first event and the last event in a session. Choose a variable from the dataset and describe its relationship to session length. Visualize the relationship.\n",
    "5. Summarize your findings in an *executive summary*.\n",
    "\n",
    "## Data\n",
    "\n",
    "Desktop users are randomly sampled to be anonymously tracked by this schema which uses a \"I'm alive\" pinging system that it is used to estimate how long users stay on the pages they visit. The dataset contains just a little more than a week of EL data.\n",
    "\n",
    "| Column          | Value   | Description                                                                       |\n",
    "|:----------------|:--------|:----------------------------------------------------------------------------------|\n",
    "| uuid            | string  | Universally unique identifier (UUID) for backend event handling.                  |\n",
    "| timestamp       | integer | The date and time (UTC) of the event, formatted as YYYYMMDDhhmmss.                |\n",
    "| session_id      | string  | A unique ID identifying individual sessions.                                      |\n",
    "| group           | string  | A label (\"a\" or \"b\").                                     |\n",
    "| action          | string  | Identifies in which the event was created. See below.                             |\n",
    "| checkin         | integer | How many seconds the page has been open for.                                      |\n",
    "| page_id         | string  | A unique identifier for correlating page visits and check-ins.                    |\n",
    "| n_results       | integer | Number of hits returned to the user. Only shown for searchResultPage events.      |\n",
    "| result_position | integer | The position of the visited page's link on the search engine results page (SERP). |\n",
    "\n",
    "The following are possible values for an event's action field:\n",
    "\n",
    "- **searchResultPage**: when a new search is performed and the user is shown a SERP.\n",
    "- **visitPage**: when the user clicks a link in the results.\n",
    "- **checkin**: when the user has remained on the page for a pre-specified amount of time.\n",
    "\n",
    "### Example Session\n",
    "\n",
    "|uuid                             |      timestamp|session_id       |group |action           | checkin|page_id          | n_results| result_position|\n",
    "|:--------------------------------|:--------------|:----------------|:-----|:----------------|-------:|:----------------|---------:|---------------:|\n",
    "|4f699f344515554a9371fe4ecb5b9ebc | 20160305195246|001e61b5477f5efc |b     |searchResultPage |      NA|1b341d0ab80eb77e |         7|              NA|\n",
    "|759d1dc9966353c2a36846a61125f286 | 20160305195302|001e61b5477f5efc |b     |visitPage        |      NA|5a6a1f75124cbf03 |        NA|               1|\n",
    "|77efd5a00a5053c4a713fbe5a48dbac4 | 20160305195312|001e61b5477f5efc |b     |checkin          |      10|5a6a1f75124cbf03 |        NA|               1|\n",
    "|42420284ad895ec4bcb1f000b949dd5e | 20160305195322|001e61b5477f5efc |b     |checkin          |      20|5a6a1f75124cbf03 |        NA|               1|\n",
    "|8ffd82c27a355a56882b5860993bd308 | 20160305195332|001e61b5477f5efc |b     |checkin          |      30|5a6a1f75124cbf03 |        NA|               1|\n",
    "|2988d11968b25b29add3a851bec2fe02 | 20160305195342|001e61b5477f5efc |b     |checkin          |      40|5a6a1f75124cbf03 |        NA|               1|\n",
    "\n",
    "This user's search query returned 7 results, they clicked on the first result, and stayed on the page between 40 and 50 seconds. (The next check-in would have happened at 50s.)\n",
    "\n",
    "Task 100% inspired by this one -> https://github.com/wikimedia-research/Discovery-Hiring-Analyst-2016"
   ]
  },
  {
   "cell_type": "code",
   "execution_count": 410,
   "metadata": {},
   "outputs": [],
   "source": [
    "#importing dependencies\n",
    "import pandas as pd\n",
    "import numpy as np\n",
    "import seaborn as sns\n",
    "import matplotlib.pyplot as plt\n",
    "%matplotlib inline"
   ]
  },
  {
   "cell_type": "code",
   "execution_count": 411,
   "metadata": {},
   "outputs": [
    {
     "data": {
      "text/html": [
       "<div>\n",
       "<style scoped>\n",
       "    .dataframe tbody tr th:only-of-type {\n",
       "        vertical-align: middle;\n",
       "    }\n",
       "\n",
       "    .dataframe tbody tr th {\n",
       "        vertical-align: top;\n",
       "    }\n",
       "\n",
       "    .dataframe thead th {\n",
       "        text-align: right;\n",
       "    }\n",
       "</style>\n",
       "<table border=\"1\" class=\"dataframe\">\n",
       "  <thead>\n",
       "    <tr style=\"text-align: right;\">\n",
       "      <th></th>\n",
       "      <th>uuid</th>\n",
       "      <th>timestamp</th>\n",
       "      <th>session_id</th>\n",
       "      <th>group</th>\n",
       "      <th>action</th>\n",
       "      <th>checkin</th>\n",
       "      <th>page_id</th>\n",
       "      <th>n_results</th>\n",
       "      <th>result_position</th>\n",
       "    </tr>\n",
       "  </thead>\n",
       "  <tbody>\n",
       "    <tr>\n",
       "      <th>0</th>\n",
       "      <td>00000736167c507e8ec225bd9e71f9e5</td>\n",
       "      <td>2.016030e+13</td>\n",
       "      <td>78245c2c3fba013a</td>\n",
       "      <td>b</td>\n",
       "      <td>searchResultPage</td>\n",
       "      <td>NaN</td>\n",
       "      <td>cbeb66d1bc1f1bc2</td>\n",
       "      <td>5.0</td>\n",
       "      <td>NaN</td>\n",
       "    </tr>\n",
       "    <tr>\n",
       "      <th>1</th>\n",
       "      <td>00000c69fe345268935463abbfa5d5b3</td>\n",
       "      <td>2.016031e+13</td>\n",
       "      <td>c559c3be98dca8a4</td>\n",
       "      <td>a</td>\n",
       "      <td>searchResultPage</td>\n",
       "      <td>NaN</td>\n",
       "      <td>eb658e8722aad674</td>\n",
       "      <td>10.0</td>\n",
       "      <td>NaN</td>\n",
       "    </tr>\n",
       "    <tr>\n",
       "      <th>2</th>\n",
       "      <td>00003bfdab715ee59077a3670331b787</td>\n",
       "      <td>2.016030e+13</td>\n",
       "      <td>760bf89817ce4b08</td>\n",
       "      <td>a</td>\n",
       "      <td>checkin</td>\n",
       "      <td>30.0</td>\n",
       "      <td>f99a9fc1f7fdd21e</td>\n",
       "      <td>NaN</td>\n",
       "      <td>NaN</td>\n",
       "    </tr>\n",
       "    <tr>\n",
       "      <th>3</th>\n",
       "      <td>0000465cd7c35ad2bdeafec953e08c1a</td>\n",
       "      <td>2.016030e+13</td>\n",
       "      <td>fb905603d31b2071</td>\n",
       "      <td>a</td>\n",
       "      <td>checkin</td>\n",
       "      <td>60.0</td>\n",
       "      <td>e5626962a6939a75</td>\n",
       "      <td>NaN</td>\n",
       "      <td>10.0</td>\n",
       "    </tr>\n",
       "    <tr>\n",
       "      <th>4</th>\n",
       "      <td>000050cbb4ef5b42b16c4d2cf69e6358</td>\n",
       "      <td>2.016030e+13</td>\n",
       "      <td>c2bf5e5172a892dc</td>\n",
       "      <td>a</td>\n",
       "      <td>checkin</td>\n",
       "      <td>30.0</td>\n",
       "      <td>787dd6a4c371cbf9</td>\n",
       "      <td>NaN</td>\n",
       "      <td>NaN</td>\n",
       "    </tr>\n",
       "  </tbody>\n",
       "</table>\n",
       "</div>"
      ],
      "text/plain": [
       "                               uuid     timestamp        session_id group  \\\n",
       "0  00000736167c507e8ec225bd9e71f9e5  2.016030e+13  78245c2c3fba013a     b   \n",
       "1  00000c69fe345268935463abbfa5d5b3  2.016031e+13  c559c3be98dca8a4     a   \n",
       "2  00003bfdab715ee59077a3670331b787  2.016030e+13  760bf89817ce4b08     a   \n",
       "3  0000465cd7c35ad2bdeafec953e08c1a  2.016030e+13  fb905603d31b2071     a   \n",
       "4  000050cbb4ef5b42b16c4d2cf69e6358  2.016030e+13  c2bf5e5172a892dc     a   \n",
       "\n",
       "             action  checkin           page_id  n_results  result_position  \n",
       "0  searchResultPage      NaN  cbeb66d1bc1f1bc2        5.0              NaN  \n",
       "1  searchResultPage      NaN  eb658e8722aad674       10.0              NaN  \n",
       "2           checkin     30.0  f99a9fc1f7fdd21e        NaN              NaN  \n",
       "3           checkin     60.0  e5626962a6939a75        NaN             10.0  \n",
       "4           checkin     30.0  787dd6a4c371cbf9        NaN              NaN  "
      ]
     },
     "execution_count": 411,
     "metadata": {},
     "output_type": "execute_result"
    }
   ],
   "source": [
    "#reading data from csv\n",
    "df=pd.read_csv('events_log.csv')\n",
    "df.head()"
   ]
  },
  {
   "cell_type": "code",
   "execution_count": 412,
   "metadata": {},
   "outputs": [
    {
     "data": {
      "text/plain": [
       "uuid               False\n",
       "timestamp          False\n",
       "session_id         False\n",
       "group              False\n",
       "action             False\n",
       "checkin             True\n",
       "page_id            False\n",
       "n_results           True\n",
       "result_position     True\n",
       "dtype: bool"
      ]
     },
     "execution_count": 412,
     "metadata": {},
     "output_type": "execute_result"
    }
   ],
   "source": [
    "#checking is there any null value\n",
    "df.isnull().any()"
   ]
  },
  {
   "cell_type": "code",
   "execution_count": 413,
   "metadata": {},
   "outputs": [
    {
     "data": {
      "text/plain": [
       "<matplotlib.axes._subplots.AxesSubplot at 0x15ac6274908>"
      ]
     },
     "execution_count": 413,
     "metadata": {},
     "output_type": "execute_result"
    },
    {
     "data": {
      "image/png": "[encoded data removed]",
      "text/plain": [
       "<Figure size 432x288 with 2 Axes>"
      ]
     },
     "metadata": {
      "needs_background": "light"
     },
     "output_type": "display_data"
    }
   ],
   "source": [
    "#drawing correlation matrix\n",
    "sns.heatmap(df.corr(),cmap='coolwarm',annot=True)"
   ]
  },
  {
   "cell_type": "code",
   "execution_count": 414,
   "metadata": {},
   "outputs": [
    {
     "data": {
      "text/html": [
       "<div>\n",
       "<style scoped>\n",
       "    .dataframe tbody tr th:only-of-type {\n",
       "        vertical-align: middle;\n",
       "    }\n",
       "\n",
       "    .dataframe tbody tr th {\n",
       "        vertical-align: top;\n",
       "    }\n",
       "\n",
       "    .dataframe thead th {\n",
       "        text-align: right;\n",
       "    }\n",
       "</style>\n",
       "<table border=\"1\" class=\"dataframe\">\n",
       "  <thead>\n",
       "    <tr style=\"text-align: right;\">\n",
       "      <th></th>\n",
       "      <th>uuid</th>\n",
       "      <th>timestamp</th>\n",
       "      <th>session_id</th>\n",
       "      <th>group</th>\n",
       "      <th>action</th>\n",
       "      <th>checkin</th>\n",
       "      <th>page_id</th>\n",
       "      <th>n_results</th>\n",
       "      <th>result_position</th>\n",
       "      <th>e</th>\n",
       "    </tr>\n",
       "  </thead>\n",
       "  <tbody>\n",
       "    <tr>\n",
       "      <th>0</th>\n",
       "      <td>00000736167c507e8ec225bd9e71f9e5</td>\n",
       "      <td>2016-03-01 10:38:42</td>\n",
       "      <td>78245c2c3fba013a</td>\n",
       "      <td>b</td>\n",
       "      <td>searchResultPage</td>\n",
       "      <td>NaN</td>\n",
       "      <td>cbeb66d1bc1f1bc2</td>\n",
       "      <td>5.0</td>\n",
       "      <td>NaN</td>\n",
       "      <td>1</td>\n",
       "    </tr>\n",
       "    <tr>\n",
       "      <th>1</th>\n",
       "      <td>00000c69fe345268935463abbfa5d5b3</td>\n",
       "      <td>2016-03-07 00:52:26</td>\n",
       "      <td>c559c3be98dca8a4</td>\n",
       "      <td>a</td>\n",
       "      <td>searchResultPage</td>\n",
       "      <td>NaN</td>\n",
       "      <td>eb658e8722aad674</td>\n",
       "      <td>10.0</td>\n",
       "      <td>NaN</td>\n",
       "      <td>1</td>\n",
       "    </tr>\n",
       "    <tr>\n",
       "      <th>2</th>\n",
       "      <td>00003bfdab715ee59077a3670331b787</td>\n",
       "      <td>2016-03-02 14:53:05</td>\n",
       "      <td>760bf89817ce4b08</td>\n",
       "      <td>a</td>\n",
       "      <td>checkin</td>\n",
       "      <td>30.0</td>\n",
       "      <td>f99a9fc1f7fdd21e</td>\n",
       "      <td>NaN</td>\n",
       "      <td>NaN</td>\n",
       "      <td>1</td>\n",
       "    </tr>\n",
       "    <tr>\n",
       "      <th>3</th>\n",
       "      <td>0000465cd7c35ad2bdeafec953e08c1a</td>\n",
       "      <td>2016-03-02 22:27:01</td>\n",
       "      <td>fb905603d31b2071</td>\n",
       "      <td>a</td>\n",
       "      <td>checkin</td>\n",
       "      <td>60.0</td>\n",
       "      <td>e5626962a6939a75</td>\n",
       "      <td>NaN</td>\n",
       "      <td>10.0</td>\n",
       "      <td>1</td>\n",
       "    </tr>\n",
       "    <tr>\n",
       "      <th>4</th>\n",
       "      <td>000050cbb4ef5b42b16c4d2cf69e6358</td>\n",
       "      <td>2016-03-02 09:50:23</td>\n",
       "      <td>c2bf5e5172a892dc</td>\n",
       "      <td>a</td>\n",
       "      <td>checkin</td>\n",
       "      <td>30.0</td>\n",
       "      <td>787dd6a4c371cbf9</td>\n",
       "      <td>NaN</td>\n",
       "      <td>NaN</td>\n",
       "      <td>1</td>\n",
       "    </tr>\n",
       "  </tbody>\n",
       "</table>\n",
       "</div>"
      ],
      "text/plain": [
       "                               uuid           timestamp        session_id  \\\n",
       "0  00000736167c507e8ec225bd9e71f9e5 2016-03-01 10:38:42  78245c2c3fba013a   \n",
       "1  00000c69fe345268935463abbfa5d5b3 2016-03-07 00:52:26  c559c3be98dca8a4   \n",
       "2  00003bfdab715ee59077a3670331b787 2016-03-02 14:53:05  760bf89817ce4b08   \n",
       "3  0000465cd7c35ad2bdeafec953e08c1a 2016-03-02 22:27:01  fb905603d31b2071   \n",
       "4  000050cbb4ef5b42b16c4d2cf69e6358 2016-03-02 09:50:23  c2bf5e5172a892dc   \n",
       "\n",
       "  group            action  checkin           page_id  n_results  \\\n",
       "0     b  searchResultPage      NaN  cbeb66d1bc1f1bc2        5.0   \n",
       "1     a  searchResultPage      NaN  eb658e8722aad674       10.0   \n",
       "2     a           checkin     30.0  f99a9fc1f7fdd21e        NaN   \n",
       "3     a           checkin     60.0  e5626962a6939a75        NaN   \n",
       "4     a           checkin     30.0  787dd6a4c371cbf9        NaN   \n",
       "\n",
       "   result_position  e  \n",
       "0              NaN  1  \n",
       "1              NaN  1  \n",
       "2              NaN  1  \n",
       "3             10.0  1  \n",
       "4              NaN  1  "
      ]
     },
     "execution_count": 414,
     "metadata": {},
     "output_type": "execute_result"
    }
   ],
   "source": [
    "df['timestamp']=pd.to_datetime(df['timestamp'],format='%Y%m%d%H%M%S')\n",
    "df['e']=1\n",
    "df.head()"
   ]
  },
  {
   "cell_type": "code",
   "execution_count": 415,
   "metadata": {},
   "outputs": [
    {
     "data": {
      "text/plain": [
       "timestamp   group\n",
       "2016-03-01  a        12582\n",
       "            b         5792\n",
       "2016-03-02  a        13209\n",
       "            b         5693\n",
       "2016-03-03  a        13280\n",
       "            b         5879\n",
       "2016-03-04  a        11298\n",
       "            b         5377\n",
       "2016-03-05  a         8612\n",
       "            b         4592\n",
       "2016-03-06  a         9469\n",
       "            b         5143\n",
       "2016-03-07  a        12699\n",
       "            b         6312\n",
       "2016-03-08  a        10907\n",
       "            b         5390\n",
       "Name: e, dtype: int64"
      ]
     },
     "execution_count": 415,
     "metadata": {},
     "output_type": "execute_result"
    }
   ],
   "source": [
    "#Task no. 1.\n",
    "#What is the daily overall clickthrough rate? How does it vary between the groups?\n",
    "#CRT=clickedResults/allSearchResults\n",
    "#group by Y(year), M(month), D(day), H(hour), Min(minute), S(sec)\n",
    "grouping_date_parametr = 'D'\n",
    "allSearchResults=df[df['action'] == 'searchResultPage'].groupby([pd.Grouper(key='timestamp', freq=grouping_date_parametr), 'group']).count()['e']\n",
    "allSearchResults"
   ]
  },
  {
   "cell_type": "code",
   "execution_count": 416,
   "metadata": {},
   "outputs": [
    {
     "data": {
      "text/plain": [
       "timestamp   group\n",
       "2016-03-01  a        5925\n",
       "            b         729\n",
       "2016-03-02  a        5932\n",
       "            b         760\n",
       "2016-03-03  a        5775\n",
       "            b         799\n",
       "2016-03-04  a        3381\n",
       "            b         913\n",
       "2016-03-05  a        2513\n",
       "            b         810\n",
       "2016-03-06  a        2901\n",
       "            b         857\n",
       "2016-03-07  a        3610\n",
       "            b        1104\n",
       "2016-03-08  a        3228\n",
       "            b         870\n",
       "Name: e, dtype: int64"
      ]
     },
     "execution_count": 416,
     "metadata": {},
     "output_type": "execute_result"
    }
   ],
   "source": [
    "clickedResults=df[df['action'] == 'visitPage'].groupby([pd.Grouper(key='timestamp', freq=grouping_date_parametr), 'group']).count()['e']\n",
    "clickedResults"
   ]
  },
  {
   "cell_type": "code",
   "execution_count": 417,
   "metadata": {},
   "outputs": [
    {
     "data": {
      "text/plain": [
       "timestamp   group\n",
       "2016-03-01  a        0.470911\n",
       "            b        0.125863\n",
       "2016-03-02  a        0.449088\n",
       "            b        0.133497\n",
       "2016-03-03  a        0.434864\n",
       "            b        0.135907\n",
       "2016-03-04  a        0.299257\n",
       "            b        0.169797\n",
       "2016-03-05  a        0.291802\n",
       "            b        0.176394\n",
       "2016-03-06  a        0.306368\n",
       "            b        0.166634\n",
       "2016-03-07  a        0.284274\n",
       "            b        0.174905\n",
       "2016-03-08  a        0.295957\n",
       "            b        0.161410\n",
       "Name: e, dtype: float64"
      ]
     },
     "execution_count": 417,
     "metadata": {},
     "output_type": "execute_result"
    }
   ],
   "source": [
    "CRT=clickedResults/allSearchResults\n",
    "CRT"
   ]
  },
  {
   "cell_type": "code",
   "execution_count": 418,
   "metadata": {},
   "outputs": [
    {
     "data": {
      "text/plain": [
       "<matplotlib.axes._subplots.AxesSubplot at 0x15ac7c97e10>"
      ]
     },
     "execution_count": 418,
     "metadata": {},
     "output_type": "execute_result"
    },
    {
     "data": {
      "image/png": "[encoded data removed]",
      "text/plain": [
       "<Figure size 1152x432 with 1 Axes>"
      ]
     },
     "metadata": {
      "needs_background": "light"
     },
     "output_type": "display_data"
    }
   ],
   "source": [
    "data=pd.DataFrame(CRT).reset_index()\n",
    "plt.figure(figsize=(16,6))\n",
    "sns.barplot(x='timestamp',y='e',hue='group',data=data)"
   ]
  },
  {
   "cell_type": "code",
   "execution_count": 419,
   "metadata": {},
   "outputs": [
    {
     "data": {
      "text/plain": [
       "<matplotlib.axes._subplots.AxesSubplot at 0x15ac9e784a8>"
      ]
     },
     "execution_count": 419,
     "metadata": {},
     "output_type": "execute_result"
    },
    {
     "data": {
      "image/png": "[encoded data removed]",
      "text/plain": [
       "<Figure size 432x288 with 1 Axes>"
      ]
     },
     "metadata": {
      "needs_background": "light"
     },
     "output_type": "display_data"
    }
   ],
   "source": [
    "data=data.groupby('group').mean().reset_index()\n",
    "sns.barplot(x='group',y='e',data=data)"
   ]
  },
  {
   "cell_type": "code",
   "execution_count": 420,
   "metadata": {},
   "outputs": [
    {
     "data": {
      "text/plain": [
       "timestamp   group\n",
       "2016-03-01  a        2350\n",
       "            b        1097\n",
       "2016-03-02  a        2524\n",
       "            b        1065\n",
       "2016-03-03  a        2371\n",
       "            b        1072\n",
       "2016-03-04  a        2068\n",
       "            b         947\n",
       "2016-03-05  a        1535\n",
       "            b         907\n",
       "2016-03-06  a        1599\n",
       "            b         975\n",
       "2016-03-07  a        2316\n",
       "            b        1144\n",
       "2016-03-08  a        2139\n",
       "            b        1018\n",
       "Name: e, dtype: int64"
      ]
     },
     "execution_count": 420,
     "metadata": {},
     "output_type": "execute_result"
    }
   ],
   "source": [
    "#Task no.3.\n",
    "#What is the daily overall zero results rate? How does it vary between the groups?\n",
    "#ZRR=zeroSearchResults/allSearchResults\n",
    "zeroSearchResults=df[df['n_results'] == 0].groupby([pd.Grouper(key='timestamp', freq=grouping_date_parametr), 'group']).count()['e']\n",
    "zeroSearchResults"
   ]
  },
  {
   "cell_type": "code",
   "execution_count": 421,
   "metadata": {},
   "outputs": [
    {
     "data": {
      "text/plain": [
       "timestamp   group\n",
       "2016-03-01  a        0.186775\n",
       "            b        0.189399\n",
       "2016-03-02  a        0.191082\n",
       "            b        0.187072\n",
       "2016-03-03  a        0.178539\n",
       "            b        0.182344\n",
       "2016-03-04  a        0.183041\n",
       "            b        0.176121\n",
       "2016-03-05  a        0.178240\n",
       "            b        0.197517\n",
       "2016-03-06  a        0.168867\n",
       "            b        0.189578\n",
       "2016-03-07  a        0.182377\n",
       "            b        0.181242\n",
       "2016-03-08  a        0.196113\n",
       "            b        0.188868\n",
       "Name: e, dtype: float64"
      ]
     },
     "execution_count": 421,
     "metadata": {},
     "output_type": "execute_result"
    }
   ],
   "source": [
    "ZRR=zeroSearchResults/allSearchResults\n",
    "ZRR"
   ]
  },
  {
   "cell_type": "code",
   "execution_count": 422,
   "metadata": {},
   "outputs": [
    {
     "data": {
      "text/plain": [
       "<matplotlib.axes._subplots.AxesSubplot at 0x15ac7f2ac50>"
      ]
     },
     "execution_count": 422,
     "metadata": {},
     "output_type": "execute_result"
    },
    {
     "data": {
      "image/png": "[encoded data removed]",
      "text/plain": [
       "<Figure size 1152x432 with 1 Axes>"
      ]
     },
     "metadata": {
      "needs_background": "light"
     },
     "output_type": "display_data"
    }
   ],
   "source": [
    "data=pd.DataFrame(ZRR).reset_index()\n",
    "plt.figure(figsize=(16,6))\n",
    "sns.barplot(x='timestamp',y='e',hue='group',data=data)"
   ]
  },
  {
   "cell_type": "code",
   "execution_count": 423,
   "metadata": {},
   "outputs": [
    {
     "data": {
      "text/plain": [
       "<matplotlib.axes._subplots.AxesSubplot at 0x15acd47e940>"
      ]
     },
     "execution_count": 423,
     "metadata": {},
     "output_type": "execute_result"
    },
    {
     "data": {
      "image/png": "[encoded data removed]",
      "text/plain": [
       "<Figure size 432x288 with 1 Axes>"
      ]
     },
     "metadata": {
      "needs_background": "light"
     },
     "output_type": "display_data"
    }
   ],
   "source": [
    "data=data.groupby('group').mean().reset_index()\n",
    "sns.barplot(x='group',y='e',data=data)"
   ]
  },
  {
   "cell_type": "code",
   "execution_count": 424,
   "metadata": {},
   "outputs": [
    {
     "data": {
      "text/html": [
       "<div>\n",
       "<style scoped>\n",
       "    .dataframe tbody tr th:only-of-type {\n",
       "        vertical-align: middle;\n",
       "    }\n",
       "\n",
       "    .dataframe tbody tr th {\n",
       "        vertical-align: top;\n",
       "    }\n",
       "\n",
       "    .dataframe thead th {\n",
       "        text-align: right;\n",
       "    }\n",
       "</style>\n",
       "<table border=\"1\" class=\"dataframe\">\n",
       "  <thead>\n",
       "    <tr style=\"text-align: right;\">\n",
       "      <th></th>\n",
       "      <th></th>\n",
       "      <th>uuid</th>\n",
       "      <th>group</th>\n",
       "      <th>action</th>\n",
       "      <th>checkin</th>\n",
       "      <th>page_id</th>\n",
       "      <th>n_results</th>\n",
       "      <th>result_position</th>\n",
       "      <th>e</th>\n",
       "    </tr>\n",
       "    <tr>\n",
       "      <th>timestamp</th>\n",
       "      <th>session_id</th>\n",
       "      <th></th>\n",
       "      <th></th>\n",
       "      <th></th>\n",
       "      <th></th>\n",
       "      <th></th>\n",
       "      <th></th>\n",
       "      <th></th>\n",
       "      <th></th>\n",
       "    </tr>\n",
       "  </thead>\n",
       "  <tbody>\n",
       "    <tr>\n",
       "      <th>2016-03-01 00:00:13</th>\n",
       "      <th>61e6cb95570e935e</th>\n",
       "      <td>a73412d99cea511a9290ee30d3730d33</td>\n",
       "      <td>a</td>\n",
       "      <td>visitPage</td>\n",
       "      <td>NaN</td>\n",
       "      <td>25f29cab87d2fdc2</td>\n",
       "      <td>NaN</td>\n",
       "      <td>2.0</td>\n",
       "      <td>1</td>\n",
       "    </tr>\n",
       "    <tr>\n",
       "      <th>2016-03-01 00:01:09</th>\n",
       "      <th>23ca1f966a29d591</th>\n",
       "      <td>54351b3fa84f5459a5966e14ce6d1cf8</td>\n",
       "      <td>a</td>\n",
       "      <td>visitPage</td>\n",
       "      <td>NaN</td>\n",
       "      <td>681469ad93cb79c7</td>\n",
       "      <td>NaN</td>\n",
       "      <td>10.0</td>\n",
       "      <td>1</td>\n",
       "    </tr>\n",
       "    <tr>\n",
       "      <th>2016-03-01 00:02:00</th>\n",
       "      <th>23ca1f966a29d591</th>\n",
       "      <td>066982583344570a957c868d0f1e01c1</td>\n",
       "      <td>a</td>\n",
       "      <td>visitPage</td>\n",
       "      <td>NaN</td>\n",
       "      <td>dca216592b74f00d</td>\n",
       "      <td>NaN</td>\n",
       "      <td>11.0</td>\n",
       "      <td>1</td>\n",
       "    </tr>\n",
       "    <tr>\n",
       "      <th>2016-03-01 00:02:02</th>\n",
       "      <th>286442a37ee8598f</th>\n",
       "      <td>42b726c6b2a0549b9485388baaf36e06</td>\n",
       "      <td>a</td>\n",
       "      <td>visitPage</td>\n",
       "      <td>NaN</td>\n",
       "      <td>0ca8366c634aed63</td>\n",
       "      <td>NaN</td>\n",
       "      <td>2.0</td>\n",
       "      <td>1</td>\n",
       "    </tr>\n",
       "    <tr>\n",
       "      <th>2016-03-01 00:02:18</th>\n",
       "      <th>882d1afe00573b91</th>\n",
       "      <td>88dd5e9cc3f85cacb4c05530d4074fbf</td>\n",
       "      <td>a</td>\n",
       "      <td>visitPage</td>\n",
       "      <td>NaN</td>\n",
       "      <td>e5c70d68467cf492</td>\n",
       "      <td>NaN</td>\n",
       "      <td>3.0</td>\n",
       "      <td>1</td>\n",
       "    </tr>\n",
       "  </tbody>\n",
       "</table>\n",
       "</div>"
      ],
      "text/plain": [
       "                                                                  uuid group  \\\n",
       "timestamp           session_id                                                 \n",
       "2016-03-01 00:00:13 61e6cb95570e935e  a73412d99cea511a9290ee30d3730d33     a   \n",
       "2016-03-01 00:01:09 23ca1f966a29d591  54351b3fa84f5459a5966e14ce6d1cf8     a   \n",
       "2016-03-01 00:02:00 23ca1f966a29d591  066982583344570a957c868d0f1e01c1     a   \n",
       "2016-03-01 00:02:02 286442a37ee8598f  42b726c6b2a0549b9485388baaf36e06     a   \n",
       "2016-03-01 00:02:18 882d1afe00573b91  88dd5e9cc3f85cacb4c05530d4074fbf     a   \n",
       "\n",
       "                                         action  checkin           page_id  \\\n",
       "timestamp           session_id                                               \n",
       "2016-03-01 00:00:13 61e6cb95570e935e  visitPage      NaN  25f29cab87d2fdc2   \n",
       "2016-03-01 00:01:09 23ca1f966a29d591  visitPage      NaN  681469ad93cb79c7   \n",
       "2016-03-01 00:02:00 23ca1f966a29d591  visitPage      NaN  dca216592b74f00d   \n",
       "2016-03-01 00:02:02 286442a37ee8598f  visitPage      NaN  0ca8366c634aed63   \n",
       "2016-03-01 00:02:18 882d1afe00573b91  visitPage      NaN  e5c70d68467cf492   \n",
       "\n",
       "                                      n_results  result_position  e  \n",
       "timestamp           session_id                                       \n",
       "2016-03-01 00:00:13 61e6cb95570e935e        NaN              2.0  1  \n",
       "2016-03-01 00:01:09 23ca1f966a29d591        NaN             10.0  1  \n",
       "2016-03-01 00:02:00 23ca1f966a29d591        NaN             11.0  1  \n",
       "2016-03-01 00:02:02 286442a37ee8598f        NaN              2.0  1  \n",
       "2016-03-01 00:02:18 882d1afe00573b91        NaN              3.0  1  "
      ]
     },
     "execution_count": 424,
     "metadata": {},
     "output_type": "execute_result"
    }
   ],
   "source": [
    "#Task no. 2.\n",
    "#Which results do people tend to try first? How does it change day-to-day?\n",
    "tryFirst=df[df['action'] == 'visitPage'].groupby([pd.Grouper(key='timestamp', freq='S'),'session_id']).first()\n",
    "tryFirst.head()"
   ]
  },
  {
   "cell_type": "code",
   "execution_count": 425,
   "metadata": {},
   "outputs": [
    {
     "data": {
      "text/html": [
       "<div>\n",
       "<style scoped>\n",
       "    .dataframe tbody tr th:only-of-type {\n",
       "        vertical-align: middle;\n",
       "    }\n",
       "\n",
       "    .dataframe tbody tr th {\n",
       "        vertical-align: top;\n",
       "    }\n",
       "\n",
       "    .dataframe thead th {\n",
       "        text-align: right;\n",
       "    }\n",
       "</style>\n",
       "<table border=\"1\" class=\"dataframe\">\n",
       "  <thead>\n",
       "    <tr style=\"text-align: right;\">\n",
       "      <th></th>\n",
       "      <th>timestamp</th>\n",
       "      <th>result_position</th>\n",
       "      <th>e</th>\n",
       "    </tr>\n",
       "  </thead>\n",
       "  <tbody>\n",
       "    <tr>\n",
       "      <th>0</th>\n",
       "      <td>2016-03-01</td>\n",
       "      <td>1.0</td>\n",
       "      <td>2825</td>\n",
       "    </tr>\n",
       "    <tr>\n",
       "      <th>1</th>\n",
       "      <td>2016-03-01</td>\n",
       "      <td>2.0</td>\n",
       "      <td>674</td>\n",
       "    </tr>\n",
       "    <tr>\n",
       "      <th>2</th>\n",
       "      <td>2016-03-01</td>\n",
       "      <td>3.0</td>\n",
       "      <td>302</td>\n",
       "    </tr>\n",
       "    <tr>\n",
       "      <th>3</th>\n",
       "      <td>2016-03-01</td>\n",
       "      <td>4.0</td>\n",
       "      <td>177</td>\n",
       "    </tr>\n",
       "    <tr>\n",
       "      <th>4</th>\n",
       "      <td>2016-03-01</td>\n",
       "      <td>5.0</td>\n",
       "      <td>114</td>\n",
       "    </tr>\n",
       "  </tbody>\n",
       "</table>\n",
       "</div>"
      ],
      "text/plain": [
       "   timestamp  result_position     e\n",
       "0 2016-03-01              1.0  2825\n",
       "1 2016-03-01              2.0   674\n",
       "2 2016-03-01              3.0   302\n",
       "3 2016-03-01              4.0   177\n",
       "4 2016-03-01              5.0   114"
      ]
     },
     "execution_count": 425,
     "metadata": {},
     "output_type": "execute_result"
    }
   ],
   "source": [
    "data=tryFirst.reset_index()[['timestamp','result_position','e']]\n",
    "new_data=data.groupby([pd.Grouper(key='timestamp', freq='D'),'result_position']).count().reset_index()\n",
    "new_data.head()"
   ]
  },
  {
   "cell_type": "code",
   "execution_count": 426,
   "metadata": {},
   "outputs": [
    {
     "data": {
      "text/plain": [
       "<matplotlib.axes._subplots.AxesSubplot at 0x15afcf81080>"
      ]
     },
     "execution_count": 426,
     "metadata": {},
     "output_type": "execute_result"
    },
    {
     "data": {
      "image/png": "[encoded data removed]",
      "text/plain": [
       "<Figure size 1152x432 with 1 Axes>"
      ]
     },
     "metadata": {
      "needs_background": "light"
     },
     "output_type": "display_data"
    }
   ],
   "source": [
    "plt.figure(figsize=(16,6))\n",
    "podaci=new_data[new_data['result_position']<20]\n",
    "sns.barplot(x='result_position',y='e',hue='timestamp',data=podaci)"
   ]
  },
  {
   "cell_type": "code",
   "execution_count": 427,
   "metadata": {},
   "outputs": [
    {
     "data": {
      "text/plain": [
       "<matplotlib.axes._subplots.AxesSubplot at 0x15acbb0cda0>"
      ]
     },
     "execution_count": 427,
     "metadata": {},
     "output_type": "execute_result"
    },
    {
     "data": {
      "image/png": "[encoded data removed]",
      "text/plain": [
       "<Figure size 1152x432 with 1 Axes>"
      ]
     },
     "metadata": {
      "needs_background": "light"
     },
     "output_type": "display_data"
    }
   ],
   "source": [
    "plt.figure(figsize=(16,6))\n",
    "podaci=podaci.groupby('result_position').sum().reset_index()\n",
    "sns.barplot(x='result_position',y='e',data=podaci)"
   ]
  },
  {
   "cell_type": "code",
   "execution_count": 428,
   "metadata": {},
   "outputs": [
    {
     "data": {
      "text/html": [
       "<div>\n",
       "<style scoped>\n",
       "    .dataframe tbody tr th:only-of-type {\n",
       "        vertical-align: middle;\n",
       "    }\n",
       "\n",
       "    .dataframe tbody tr th {\n",
       "        vertical-align: top;\n",
       "    }\n",
       "\n",
       "    .dataframe thead th {\n",
       "        text-align: right;\n",
       "    }\n",
       "</style>\n",
       "<table border=\"1\" class=\"dataframe\">\n",
       "  <thead>\n",
       "    <tr style=\"text-align: right;\">\n",
       "      <th></th>\n",
       "      <th>session_id</th>\n",
       "      <th>timestamp</th>\n",
       "    </tr>\n",
       "  </thead>\n",
       "  <tbody>\n",
       "    <tr>\n",
       "      <th>0</th>\n",
       "      <td>0000cbcb67c19c45</td>\n",
       "      <td>2016-03-03 15:20:45</td>\n",
       "    </tr>\n",
       "    <tr>\n",
       "      <th>1</th>\n",
       "      <td>0001382e027b2ea4</td>\n",
       "      <td>2016-03-07 08:49:55</td>\n",
       "    </tr>\n",
       "    <tr>\n",
       "      <th>2</th>\n",
       "      <td>0001e8bb90445cb2</td>\n",
       "      <td>2016-03-05 09:24:15</td>\n",
       "    </tr>\n",
       "    <tr>\n",
       "      <th>3</th>\n",
       "      <td>000216cf18ae1ab1</td>\n",
       "      <td>2016-03-08 16:19:46</td>\n",
       "    </tr>\n",
       "    <tr>\n",
       "      <th>4</th>\n",
       "      <td>000527f711d50dfc</td>\n",
       "      <td>2016-03-08 05:33:00</td>\n",
       "    </tr>\n",
       "  </tbody>\n",
       "</table>\n",
       "</div>"
      ],
      "text/plain": [
       "         session_id           timestamp\n",
       "0  0000cbcb67c19c45 2016-03-03 15:20:45\n",
       "1  0001382e027b2ea4 2016-03-07 08:49:55\n",
       "2  0001e8bb90445cb2 2016-03-05 09:24:15\n",
       "3  000216cf18ae1ab1 2016-03-08 16:19:46\n",
       "4  000527f711d50dfc 2016-03-08 05:33:00"
      ]
     },
     "execution_count": 428,
     "metadata": {},
     "output_type": "execute_result"
    }
   ],
   "source": [
    "#Task no. 4.\n",
    "#Let session length be approximately the time between the first event and the last event in a session.\n",
    "#Choose a variable from the dataset and describe its relationship to session length. Visualize the relationship.\n",
    "begin = df.groupby(['session_id','timestamp']).count().reset_index().groupby(['session_id']).first().reset_index()[['session_id','timestamp']]\n",
    "begin.head()"
   ]
  },
  {
   "cell_type": "code",
   "execution_count": 429,
   "metadata": {},
   "outputs": [
    {
     "data": {
      "text/html": [
       "<div>\n",
       "<style scoped>\n",
       "    .dataframe tbody tr th:only-of-type {\n",
       "        vertical-align: middle;\n",
       "    }\n",
       "\n",
       "    .dataframe tbody tr th {\n",
       "        vertical-align: top;\n",
       "    }\n",
       "\n",
       "    .dataframe thead th {\n",
       "        text-align: right;\n",
       "    }\n",
       "</style>\n",
       "<table border=\"1\" class=\"dataframe\">\n",
       "  <thead>\n",
       "    <tr style=\"text-align: right;\">\n",
       "      <th></th>\n",
       "      <th>session_id</th>\n",
       "      <th>timestamp</th>\n",
       "    </tr>\n",
       "  </thead>\n",
       "  <tbody>\n",
       "    <tr>\n",
       "      <th>0</th>\n",
       "      <td>0000cbcb67c19c45</td>\n",
       "      <td>2016-03-03 15:20:45</td>\n",
       "    </tr>\n",
       "    <tr>\n",
       "      <th>1</th>\n",
       "      <td>0001382e027b2ea4</td>\n",
       "      <td>2016-03-07 08:54:58</td>\n",
       "    </tr>\n",
       "    <tr>\n",
       "      <th>2</th>\n",
       "      <td>0001e8bb90445cb2</td>\n",
       "      <td>2016-03-05 09:31:30</td>\n",
       "    </tr>\n",
       "    <tr>\n",
       "      <th>3</th>\n",
       "      <td>000216cf18ae1ab1</td>\n",
       "      <td>2016-03-08 16:20:44</td>\n",
       "    </tr>\n",
       "    <tr>\n",
       "      <th>4</th>\n",
       "      <td>000527f711d50dfc</td>\n",
       "      <td>2016-03-08 05:33:00</td>\n",
       "    </tr>\n",
       "  </tbody>\n",
       "</table>\n",
       "</div>"
      ],
      "text/plain": [
       "         session_id           timestamp\n",
       "0  0000cbcb67c19c45 2016-03-03 15:20:45\n",
       "1  0001382e027b2ea4 2016-03-07 08:54:58\n",
       "2  0001e8bb90445cb2 2016-03-05 09:31:30\n",
       "3  000216cf18ae1ab1 2016-03-08 16:20:44\n",
       "4  000527f711d50dfc 2016-03-08 05:33:00"
      ]
     },
     "execution_count": 429,
     "metadata": {},
     "output_type": "execute_result"
    }
   ],
   "source": [
    "end = df.groupby(['session_id','timestamp']).count().reset_index().groupby(['session_id']).last().reset_index()[['session_id','timestamp']]\n",
    "end.head()"
   ]
  },
  {
   "cell_type": "code",
   "execution_count": 430,
   "metadata": {},
   "outputs": [
    {
     "data": {
      "text/html": [
       "<div>\n",
       "<style scoped>\n",
       "    .dataframe tbody tr th:only-of-type {\n",
       "        vertical-align: middle;\n",
       "    }\n",
       "\n",
       "    .dataframe tbody tr th {\n",
       "        vertical-align: top;\n",
       "    }\n",
       "\n",
       "    .dataframe thead th {\n",
       "        text-align: right;\n",
       "    }\n",
       "</style>\n",
       "<table border=\"1\" class=\"dataframe\">\n",
       "  <thead>\n",
       "    <tr style=\"text-align: right;\">\n",
       "      <th></th>\n",
       "      <th>session_id</th>\n",
       "      <th>timestamp_x</th>\n",
       "      <th>timestamp_y</th>\n",
       "    </tr>\n",
       "  </thead>\n",
       "  <tbody>\n",
       "    <tr>\n",
       "      <th>0</th>\n",
       "      <td>0000cbcb67c19c45</td>\n",
       "      <td>2016-03-03 15:20:45</td>\n",
       "      <td>2016-03-03 15:20:45</td>\n",
       "    </tr>\n",
       "    <tr>\n",
       "      <th>1</th>\n",
       "      <td>0001382e027b2ea4</td>\n",
       "      <td>2016-03-07 08:49:55</td>\n",
       "      <td>2016-03-07 08:54:58</td>\n",
       "    </tr>\n",
       "    <tr>\n",
       "      <th>2</th>\n",
       "      <td>0001e8bb90445cb2</td>\n",
       "      <td>2016-03-05 09:24:15</td>\n",
       "      <td>2016-03-05 09:31:30</td>\n",
       "    </tr>\n",
       "    <tr>\n",
       "      <th>3</th>\n",
       "      <td>000216cf18ae1ab1</td>\n",
       "      <td>2016-03-08 16:19:46</td>\n",
       "      <td>2016-03-08 16:20:44</td>\n",
       "    </tr>\n",
       "    <tr>\n",
       "      <th>4</th>\n",
       "      <td>000527f711d50dfc</td>\n",
       "      <td>2016-03-08 05:33:00</td>\n",
       "      <td>2016-03-08 05:33:00</td>\n",
       "    </tr>\n",
       "  </tbody>\n",
       "</table>\n",
       "</div>"
      ],
      "text/plain": [
       "         session_id         timestamp_x         timestamp_y\n",
       "0  0000cbcb67c19c45 2016-03-03 15:20:45 2016-03-03 15:20:45\n",
       "1  0001382e027b2ea4 2016-03-07 08:49:55 2016-03-07 08:54:58\n",
       "2  0001e8bb90445cb2 2016-03-05 09:24:15 2016-03-05 09:31:30\n",
       "3  000216cf18ae1ab1 2016-03-08 16:19:46 2016-03-08 16:20:44\n",
       "4  000527f711d50dfc 2016-03-08 05:33:00 2016-03-08 05:33:00"
      ]
     },
     "execution_count": 430,
     "metadata": {},
     "output_type": "execute_result"
    }
   ],
   "source": [
    "session=pd.merge(begin, end, on='session_id')\n",
    "session.head()"
   ]
  },
  {
   "cell_type": "code",
   "execution_count": 431,
   "metadata": {},
   "outputs": [
    {
     "data": {
      "text/html": [
       "<div>\n",
       "<style scoped>\n",
       "    .dataframe tbody tr th:only-of-type {\n",
       "        vertical-align: middle;\n",
       "    }\n",
       "\n",
       "    .dataframe tbody tr th {\n",
       "        vertical-align: top;\n",
       "    }\n",
       "\n",
       "    .dataframe thead th {\n",
       "        text-align: right;\n",
       "    }\n",
       "</style>\n",
       "<table border=\"1\" class=\"dataframe\">\n",
       "  <thead>\n",
       "    <tr style=\"text-align: right;\">\n",
       "      <th></th>\n",
       "      <th>session_id</th>\n",
       "      <th>timestamp_x</th>\n",
       "      <th>timestamp_y</th>\n",
       "      <th>session_lenght</th>\n",
       "      <th>e</th>\n",
       "    </tr>\n",
       "  </thead>\n",
       "  <tbody>\n",
       "    <tr>\n",
       "      <th>0</th>\n",
       "      <td>0000cbcb67c19c45</td>\n",
       "      <td>2016-03-03 15:20:45</td>\n",
       "      <td>2016-03-03 15:20:45</td>\n",
       "      <td>00:00:00</td>\n",
       "      <td>1</td>\n",
       "    </tr>\n",
       "    <tr>\n",
       "      <th>1</th>\n",
       "      <td>0001382e027b2ea4</td>\n",
       "      <td>2016-03-07 08:49:55</td>\n",
       "      <td>2016-03-07 08:54:58</td>\n",
       "      <td>00:05:03</td>\n",
       "      <td>1</td>\n",
       "    </tr>\n",
       "    <tr>\n",
       "      <th>2</th>\n",
       "      <td>0001e8bb90445cb2</td>\n",
       "      <td>2016-03-05 09:24:15</td>\n",
       "      <td>2016-03-05 09:31:30</td>\n",
       "      <td>00:07:15</td>\n",
       "      <td>1</td>\n",
       "    </tr>\n",
       "    <tr>\n",
       "      <th>3</th>\n",
       "      <td>000216cf18ae1ab1</td>\n",
       "      <td>2016-03-08 16:19:46</td>\n",
       "      <td>2016-03-08 16:20:44</td>\n",
       "      <td>00:00:58</td>\n",
       "      <td>1</td>\n",
       "    </tr>\n",
       "    <tr>\n",
       "      <th>4</th>\n",
       "      <td>000527f711d50dfc</td>\n",
       "      <td>2016-03-08 05:33:00</td>\n",
       "      <td>2016-03-08 05:33:00</td>\n",
       "      <td>00:00:00</td>\n",
       "      <td>1</td>\n",
       "    </tr>\n",
       "  </tbody>\n",
       "</table>\n",
       "</div>"
      ],
      "text/plain": [
       "         session_id         timestamp_x         timestamp_y session_lenght  e\n",
       "0  0000cbcb67c19c45 2016-03-03 15:20:45 2016-03-03 15:20:45       00:00:00  1\n",
       "1  0001382e027b2ea4 2016-03-07 08:49:55 2016-03-07 08:54:58       00:05:03  1\n",
       "2  0001e8bb90445cb2 2016-03-05 09:24:15 2016-03-05 09:31:30       00:07:15  1\n",
       "3  000216cf18ae1ab1 2016-03-08 16:19:46 2016-03-08 16:20:44       00:00:58  1\n",
       "4  000527f711d50dfc 2016-03-08 05:33:00 2016-03-08 05:33:00       00:00:00  1"
      ]
     },
     "execution_count": 431,
     "metadata": {},
     "output_type": "execute_result"
    }
   ],
   "source": [
    "session['session_lenght']=session['timestamp_y']-session['timestamp_x']\n",
    "session['e']=1\n",
    "session.head()"
   ]
  },
  {
   "cell_type": "code",
   "execution_count": 432,
   "metadata": {},
   "outputs": [],
   "source": [
    "def bin_f(x):\n",
    "    x = x/np.timedelta64(1, 's')\n",
    "    bins = [0,10,30,60,120,240,360,480,600,720,840,960,1080,1200]\n",
    "    for b in bins:\n",
    "        if x<=b:\n",
    "            return b\n",
    "session['bin']=session['session_lenght'].apply(lambda x: bin_f(x))"
   ]
  },
  {
   "cell_type": "code",
   "execution_count": 433,
   "metadata": {},
   "outputs": [
    {
     "data": {
      "text/plain": [
       "<matplotlib.axes._subplots.AxesSubplot at 0x15acbe99c50>"
      ]
     },
     "execution_count": 433,
     "metadata": {},
     "output_type": "execute_result"
    },
    {
     "data": {
      "image/png": "[encoded data removed]",
      "text/plain": [
       "<Figure size 432x288 with 1 Axes>"
      ]
     },
     "metadata": {
      "needs_background": "light"
     },
     "output_type": "display_data"
    }
   ],
   "source": [
    "session[['e','bin']].groupby('bin').count().plot(kind='bar')"
   ]
  },
  {
   "cell_type": "code",
   "execution_count": 434,
   "metadata": {},
   "outputs": [
    {
     "data": {
      "text/html": [
       "<div>\n",
       "<style scoped>\n",
       "    .dataframe tbody tr th:only-of-type {\n",
       "        vertical-align: middle;\n",
       "    }\n",
       "\n",
       "    .dataframe tbody tr th {\n",
       "        vertical-align: top;\n",
       "    }\n",
       "\n",
       "    .dataframe thead th {\n",
       "        text-align: right;\n",
       "    }\n",
       "</style>\n",
       "<table border=\"1\" class=\"dataframe\">\n",
       "  <thead>\n",
       "    <tr style=\"text-align: right;\">\n",
       "      <th></th>\n",
       "      <th>session_id</th>\n",
       "      <th>timestamp</th>\n",
       "      <th>group</th>\n",
       "    </tr>\n",
       "  </thead>\n",
       "  <tbody>\n",
       "    <tr>\n",
       "      <th>0</th>\n",
       "      <td>0000cbcb67c19c45</td>\n",
       "      <td>2016-03-03 15:20:45</td>\n",
       "      <td>b</td>\n",
       "    </tr>\n",
       "    <tr>\n",
       "      <th>1</th>\n",
       "      <td>0001382e027b2ea4</td>\n",
       "      <td>2016-03-07 08:49:55</td>\n",
       "      <td>b</td>\n",
       "    </tr>\n",
       "    <tr>\n",
       "      <th>2</th>\n",
       "      <td>0001e8bb90445cb2</td>\n",
       "      <td>2016-03-05 09:24:15</td>\n",
       "      <td>b</td>\n",
       "    </tr>\n",
       "    <tr>\n",
       "      <th>3</th>\n",
       "      <td>000216cf18ae1ab1</td>\n",
       "      <td>2016-03-08 16:19:46</td>\n",
       "      <td>a</td>\n",
       "    </tr>\n",
       "    <tr>\n",
       "      <th>4</th>\n",
       "      <td>000527f711d50dfc</td>\n",
       "      <td>2016-03-08 05:33:00</td>\n",
       "      <td>b</td>\n",
       "    </tr>\n",
       "  </tbody>\n",
       "</table>\n",
       "</div>"
      ],
      "text/plain": [
       "         session_id           timestamp group\n",
       "0  0000cbcb67c19c45 2016-03-03 15:20:45     b\n",
       "1  0001382e027b2ea4 2016-03-07 08:49:55     b\n",
       "2  0001e8bb90445cb2 2016-03-05 09:24:15     b\n",
       "3  000216cf18ae1ab1 2016-03-08 16:19:46     a\n",
       "4  000527f711d50dfc 2016-03-08 05:33:00     b"
      ]
     },
     "execution_count": 434,
     "metadata": {},
     "output_type": "execute_result"
    }
   ],
   "source": [
    "begin_group = df.groupby(['session_id','timestamp','group']).count().reset_index().groupby(['session_id']).first().reset_index()[['session_id','timestamp','group']]\n",
    "begin_group.head()"
   ]
  },
  {
   "cell_type": "code",
   "execution_count": 435,
   "metadata": {},
   "outputs": [
    {
     "data": {
      "text/html": [
       "<div>\n",
       "<style scoped>\n",
       "    .dataframe tbody tr th:only-of-type {\n",
       "        vertical-align: middle;\n",
       "    }\n",
       "\n",
       "    .dataframe tbody tr th {\n",
       "        vertical-align: top;\n",
       "    }\n",
       "\n",
       "    .dataframe thead th {\n",
       "        text-align: right;\n",
       "    }\n",
       "</style>\n",
       "<table border=\"1\" class=\"dataframe\">\n",
       "  <thead>\n",
       "    <tr style=\"text-align: right;\">\n",
       "      <th></th>\n",
       "      <th>session_id</th>\n",
       "      <th>timestamp</th>\n",
       "      <th>group</th>\n",
       "    </tr>\n",
       "  </thead>\n",
       "  <tbody>\n",
       "    <tr>\n",
       "      <th>0</th>\n",
       "      <td>0000cbcb67c19c45</td>\n",
       "      <td>2016-03-03 15:20:45</td>\n",
       "      <td>b</td>\n",
       "    </tr>\n",
       "    <tr>\n",
       "      <th>1</th>\n",
       "      <td>0001382e027b2ea4</td>\n",
       "      <td>2016-03-07 08:54:58</td>\n",
       "      <td>b</td>\n",
       "    </tr>\n",
       "    <tr>\n",
       "      <th>2</th>\n",
       "      <td>0001e8bb90445cb2</td>\n",
       "      <td>2016-03-05 09:31:30</td>\n",
       "      <td>b</td>\n",
       "    </tr>\n",
       "    <tr>\n",
       "      <th>3</th>\n",
       "      <td>000216cf18ae1ab1</td>\n",
       "      <td>2016-03-08 16:20:44</td>\n",
       "      <td>a</td>\n",
       "    </tr>\n",
       "    <tr>\n",
       "      <th>4</th>\n",
       "      <td>000527f711d50dfc</td>\n",
       "      <td>2016-03-08 05:33:00</td>\n",
       "      <td>b</td>\n",
       "    </tr>\n",
       "  </tbody>\n",
       "</table>\n",
       "</div>"
      ],
      "text/plain": [
       "         session_id           timestamp group\n",
       "0  0000cbcb67c19c45 2016-03-03 15:20:45     b\n",
       "1  0001382e027b2ea4 2016-03-07 08:54:58     b\n",
       "2  0001e8bb90445cb2 2016-03-05 09:31:30     b\n",
       "3  000216cf18ae1ab1 2016-03-08 16:20:44     a\n",
       "4  000527f711d50dfc 2016-03-08 05:33:00     b"
      ]
     },
     "execution_count": 435,
     "metadata": {},
     "output_type": "execute_result"
    }
   ],
   "source": [
    "end_group = df.groupby(['session_id','timestamp','group']).count().reset_index().groupby(['session_id']).last().reset_index()[['session_id','timestamp','group']]\n",
    "end_group.head()"
   ]
  },
  {
   "cell_type": "code",
   "execution_count": 436,
   "metadata": {},
   "outputs": [
    {
     "data": {
      "text/html": [
       "<div>\n",
       "<style scoped>\n",
       "    .dataframe tbody tr th:only-of-type {\n",
       "        vertical-align: middle;\n",
       "    }\n",
       "\n",
       "    .dataframe tbody tr th {\n",
       "        vertical-align: top;\n",
       "    }\n",
       "\n",
       "    .dataframe thead th {\n",
       "        text-align: right;\n",
       "    }\n",
       "</style>\n",
       "<table border=\"1\" class=\"dataframe\">\n",
       "  <thead>\n",
       "    <tr style=\"text-align: right;\">\n",
       "      <th></th>\n",
       "      <th>session_id</th>\n",
       "      <th>timestamp_x</th>\n",
       "      <th>group</th>\n",
       "      <th>timestamp_y</th>\n",
       "    </tr>\n",
       "  </thead>\n",
       "  <tbody>\n",
       "    <tr>\n",
       "      <th>0</th>\n",
       "      <td>0000cbcb67c19c45</td>\n",
       "      <td>2016-03-03 15:20:45</td>\n",
       "      <td>b</td>\n",
       "      <td>2016-03-03 15:20:45</td>\n",
       "    </tr>\n",
       "    <tr>\n",
       "      <th>1</th>\n",
       "      <td>0001382e027b2ea4</td>\n",
       "      <td>2016-03-07 08:49:55</td>\n",
       "      <td>b</td>\n",
       "      <td>2016-03-07 08:54:58</td>\n",
       "    </tr>\n",
       "    <tr>\n",
       "      <th>2</th>\n",
       "      <td>0001e8bb90445cb2</td>\n",
       "      <td>2016-03-05 09:24:15</td>\n",
       "      <td>b</td>\n",
       "      <td>2016-03-05 09:31:30</td>\n",
       "    </tr>\n",
       "    <tr>\n",
       "      <th>3</th>\n",
       "      <td>000216cf18ae1ab1</td>\n",
       "      <td>2016-03-08 16:19:46</td>\n",
       "      <td>a</td>\n",
       "      <td>2016-03-08 16:20:44</td>\n",
       "    </tr>\n",
       "    <tr>\n",
       "      <th>4</th>\n",
       "      <td>000527f711d50dfc</td>\n",
       "      <td>2016-03-08 05:33:00</td>\n",
       "      <td>b</td>\n",
       "      <td>2016-03-08 05:33:00</td>\n",
       "    </tr>\n",
       "  </tbody>\n",
       "</table>\n",
       "</div>"
      ],
      "text/plain": [
       "         session_id         timestamp_x group         timestamp_y\n",
       "0  0000cbcb67c19c45 2016-03-03 15:20:45     b 2016-03-03 15:20:45\n",
       "1  0001382e027b2ea4 2016-03-07 08:49:55     b 2016-03-07 08:54:58\n",
       "2  0001e8bb90445cb2 2016-03-05 09:24:15     b 2016-03-05 09:31:30\n",
       "3  000216cf18ae1ab1 2016-03-08 16:19:46     a 2016-03-08 16:20:44\n",
       "4  000527f711d50dfc 2016-03-08 05:33:00     b 2016-03-08 05:33:00"
      ]
     },
     "execution_count": 436,
     "metadata": {},
     "output_type": "execute_result"
    }
   ],
   "source": [
    "session_group=pd.merge(begin_group, end_group, on=['session_id','group'])\n",
    "session_group.head()"
   ]
  },
  {
   "cell_type": "code",
   "execution_count": 437,
   "metadata": {},
   "outputs": [
    {
     "data": {
      "text/html": [
       "<div>\n",
       "<style scoped>\n",
       "    .dataframe tbody tr th:only-of-type {\n",
       "        vertical-align: middle;\n",
       "    }\n",
       "\n",
       "    .dataframe tbody tr th {\n",
       "        vertical-align: top;\n",
       "    }\n",
       "\n",
       "    .dataframe thead th {\n",
       "        text-align: right;\n",
       "    }\n",
       "</style>\n",
       "<table border=\"1\" class=\"dataframe\">\n",
       "  <thead>\n",
       "    <tr style=\"text-align: right;\">\n",
       "      <th></th>\n",
       "      <th>session_id</th>\n",
       "      <th>timestamp_x</th>\n",
       "      <th>group</th>\n",
       "      <th>timestamp_y</th>\n",
       "      <th>session_lenght</th>\n",
       "      <th>e</th>\n",
       "    </tr>\n",
       "  </thead>\n",
       "  <tbody>\n",
       "    <tr>\n",
       "      <th>0</th>\n",
       "      <td>0000cbcb67c19c45</td>\n",
       "      <td>2016-03-03 15:20:45</td>\n",
       "      <td>b</td>\n",
       "      <td>2016-03-03 15:20:45</td>\n",
       "      <td>00:00:00</td>\n",
       "      <td>1</td>\n",
       "    </tr>\n",
       "    <tr>\n",
       "      <th>1</th>\n",
       "      <td>0001382e027b2ea4</td>\n",
       "      <td>2016-03-07 08:49:55</td>\n",
       "      <td>b</td>\n",
       "      <td>2016-03-07 08:54:58</td>\n",
       "      <td>00:05:03</td>\n",
       "      <td>1</td>\n",
       "    </tr>\n",
       "    <tr>\n",
       "      <th>2</th>\n",
       "      <td>0001e8bb90445cb2</td>\n",
       "      <td>2016-03-05 09:24:15</td>\n",
       "      <td>b</td>\n",
       "      <td>2016-03-05 09:31:30</td>\n",
       "      <td>00:07:15</td>\n",
       "      <td>1</td>\n",
       "    </tr>\n",
       "    <tr>\n",
       "      <th>3</th>\n",
       "      <td>000216cf18ae1ab1</td>\n",
       "      <td>2016-03-08 16:19:46</td>\n",
       "      <td>a</td>\n",
       "      <td>2016-03-08 16:20:44</td>\n",
       "      <td>00:00:58</td>\n",
       "      <td>1</td>\n",
       "    </tr>\n",
       "    <tr>\n",
       "      <th>4</th>\n",
       "      <td>000527f711d50dfc</td>\n",
       "      <td>2016-03-08 05:33:00</td>\n",
       "      <td>b</td>\n",
       "      <td>2016-03-08 05:33:00</td>\n",
       "      <td>00:00:00</td>\n",
       "      <td>1</td>\n",
       "    </tr>\n",
       "  </tbody>\n",
       "</table>\n",
       "</div>"
      ],
      "text/plain": [
       "         session_id         timestamp_x group         timestamp_y  \\\n",
       "0  0000cbcb67c19c45 2016-03-03 15:20:45     b 2016-03-03 15:20:45   \n",
       "1  0001382e027b2ea4 2016-03-07 08:49:55     b 2016-03-07 08:54:58   \n",
       "2  0001e8bb90445cb2 2016-03-05 09:24:15     b 2016-03-05 09:31:30   \n",
       "3  000216cf18ae1ab1 2016-03-08 16:19:46     a 2016-03-08 16:20:44   \n",
       "4  000527f711d50dfc 2016-03-08 05:33:00     b 2016-03-08 05:33:00   \n",
       "\n",
       "  session_lenght  e  \n",
       "0       00:00:00  1  \n",
       "1       00:05:03  1  \n",
       "2       00:07:15  1  \n",
       "3       00:00:58  1  \n",
       "4       00:00:00  1  "
      ]
     },
     "execution_count": 437,
     "metadata": {},
     "output_type": "execute_result"
    }
   ],
   "source": [
    "session_group['session_lenght']=session_group['timestamp_y']-session_group['timestamp_x']\n",
    "session_group['e']=1\n",
    "session_group.head()"
   ]
  },
  {
   "cell_type": "code",
   "execution_count": 438,
   "metadata": {},
   "outputs": [],
   "source": [
    "def bin_f(x):\n",
    "    x = x/np.timedelta64(1, 's')\n",
    "    bins = [0,10,30,60,120,240,360,480,600,720,840,960,1080,1200]\n",
    "    for b in bins:\n",
    "        if x<=b:\n",
    "            return b\n",
    "session_group['bin']=session_group['session_lenght'].apply(lambda x: bin_f(x))"
   ]
  },
  {
   "cell_type": "code",
   "execution_count": 439,
   "metadata": {},
   "outputs": [
    {
     "data": {
      "text/html": [
       "<div>\n",
       "<style scoped>\n",
       "    .dataframe tbody tr th:only-of-type {\n",
       "        vertical-align: middle;\n",
       "    }\n",
       "\n",
       "    .dataframe tbody tr th {\n",
       "        vertical-align: top;\n",
       "    }\n",
       "\n",
       "    .dataframe thead th {\n",
       "        text-align: right;\n",
       "    }\n",
       "</style>\n",
       "<table border=\"1\" class=\"dataframe\">\n",
       "  <thead>\n",
       "    <tr style=\"text-align: right;\">\n",
       "      <th></th>\n",
       "      <th>bin</th>\n",
       "      <th>group</th>\n",
       "      <th>e</th>\n",
       "    </tr>\n",
       "  </thead>\n",
       "  <tbody>\n",
       "    <tr>\n",
       "      <th>0</th>\n",
       "      <td>0.0</td>\n",
       "      <td>b</td>\n",
       "      <td>27606</td>\n",
       "    </tr>\n",
       "    <tr>\n",
       "      <th>1</th>\n",
       "      <td>10.0</td>\n",
       "      <td>a</td>\n",
       "      <td>2406</td>\n",
       "    </tr>\n",
       "    <tr>\n",
       "      <th>2</th>\n",
       "      <td>10.0</td>\n",
       "      <td>b</td>\n",
       "      <td>1976</td>\n",
       "    </tr>\n",
       "    <tr>\n",
       "      <th>3</th>\n",
       "      <td>30.0</td>\n",
       "      <td>a</td>\n",
       "      <td>4505</td>\n",
       "    </tr>\n",
       "    <tr>\n",
       "      <th>4</th>\n",
       "      <td>30.0</td>\n",
       "      <td>b</td>\n",
       "      <td>2425</td>\n",
       "    </tr>\n",
       "  </tbody>\n",
       "</table>\n",
       "</div>"
      ],
      "text/plain": [
       "    bin group      e\n",
       "0   0.0     b  27606\n",
       "1  10.0     a   2406\n",
       "2  10.0     b   1976\n",
       "3  30.0     a   4505\n",
       "4  30.0     b   2425"
      ]
     },
     "execution_count": 439,
     "metadata": {},
     "output_type": "execute_result"
    }
   ],
   "source": [
    "session_group=session_group[['e','bin','group']].groupby(['bin','group']).count().reset_index()\n",
    "session_group.head()"
   ]
  },
  {
   "cell_type": "code",
   "execution_count": 440,
   "metadata": {},
   "outputs": [
    {
     "data": {
      "text/plain": [
       "<matplotlib.axes._subplots.AxesSubplot at 0x15aa5f9ff98>"
      ]
     },
     "execution_count": 440,
     "metadata": {},
     "output_type": "execute_result"
    },
    {
     "data": {
      "image/png": "[encoded data removed]",
      "text/plain": [
       "<Figure size 1152x432 with 1 Axes>"
      ]
     },
     "metadata": {
      "needs_background": "light"
     },
     "output_type": "display_data"
    }
   ],
   "source": [
    "plt.figure(figsize=(16,6))\n",
    "sns.barplot(x='bin',y='e',hue='group',data=session_group)"
   ]
  },
  {
   "cell_type": "code",
   "execution_count": 441,
   "metadata": {},
   "outputs": [
    {
     "data": {
      "text/plain": [
       "array(['b'], dtype=object)"
      ]
     },
     "execution_count": 441,
     "metadata": {},
     "output_type": "execute_result"
    }
   ],
   "source": [
    "#check if all rows which has only one action is from group b\n",
    "temp=pd.DataFrame(df.groupby(['session_id','group']).apply(lambda row: len(row))).reset_index()\n",
    "temp[temp[0]==1]['group'].unique()"
   ]
  },
  {
   "cell_type": "code",
   "execution_count": 442,
   "metadata": {},
   "outputs": [
    {
     "name": "stdout",
     "output_type": "stream",
     "text": [
      "<class 'pandas.core.frame.DataFrame'>\n",
      "Int64Index: 27595 entries, 0 to 68025\n",
      "Data columns (total 3 columns):\n",
      "session_id    27595 non-null object\n",
      "group         27595 non-null object\n",
      "0             27595 non-null int64\n",
      "dtypes: int64(1), object(2)\n",
      "memory usage: 862.3+ KB\n"
     ]
    }
   ],
   "source": [
    "temp[temp[0]==1].info()"
   ]
  },
  {
   "cell_type": "code",
   "execution_count": 443,
   "metadata": {},
   "outputs": [
    {
     "data": {
      "text/html": [
       "<div>\n",
       "<style scoped>\n",
       "    .dataframe tbody tr th:only-of-type {\n",
       "        vertical-align: middle;\n",
       "    }\n",
       "\n",
       "    .dataframe tbody tr th {\n",
       "        vertical-align: top;\n",
       "    }\n",
       "\n",
       "    .dataframe thead th {\n",
       "        text-align: right;\n",
       "    }\n",
       "</style>\n",
       "<table border=\"1\" class=\"dataframe\">\n",
       "  <thead>\n",
       "    <tr style=\"text-align: right;\">\n",
       "      <th></th>\n",
       "      <th>0</th>\n",
       "    </tr>\n",
       "    <tr>\n",
       "      <th>session_id</th>\n",
       "      <th></th>\n",
       "    </tr>\n",
       "  </thead>\n",
       "  <tbody>\n",
       "    <tr>\n",
       "      <th>0000cbcb67c19c45</th>\n",
       "      <td>0.0</td>\n",
       "    </tr>\n",
       "    <tr>\n",
       "      <th>0001382e027b2ea4</th>\n",
       "      <td>300.0</td>\n",
       "    </tr>\n",
       "    <tr>\n",
       "      <th>0001e8bb90445cb2</th>\n",
       "      <td>420.0</td>\n",
       "    </tr>\n",
       "    <tr>\n",
       "      <th>000216cf18ae1ab1</th>\n",
       "      <td>0.0</td>\n",
       "    </tr>\n",
       "    <tr>\n",
       "      <th>000527f711d50dfc</th>\n",
       "      <td>0.0</td>\n",
       "    </tr>\n",
       "  </tbody>\n",
       "</table>\n",
       "</div>"
      ],
      "text/plain": [
       "                      0\n",
       "session_id             \n",
       "0000cbcb67c19c45    0.0\n",
       "0001382e027b2ea4  300.0\n",
       "0001e8bb90445cb2  420.0\n",
       "000216cf18ae1ab1    0.0\n",
       "000527f711d50dfc    0.0"
      ]
     },
     "execution_count": 443,
     "metadata": {},
     "output_type": "execute_result"
    }
   ],
   "source": [
    "checkinLen=df.groupby(['session_id','page_id']).apply(lambda x: x['checkin'].max())\n",
    "checkinLen=checkinLen.fillna(0).reset_index().groupby('session_id').sum()\n",
    "checkinLen.head()"
   ]
  },
  {
   "cell_type": "code",
   "execution_count": 444,
   "metadata": {},
   "outputs": [
    {
     "data": {
      "text/plain": [
       "session_id\n",
       "0000cbcb67c19c45     20.0\n",
       "0001382e027b2ea4     18.0\n",
       "0001e8bb90445cb2     20.0\n",
       "000216cf18ae1ab1    120.0\n",
       "000527f711d50dfc      1.0\n",
       "Name: n_results, dtype: float64"
      ]
     },
     "execution_count": 444,
     "metadata": {},
     "output_type": "execute_result"
    }
   ],
   "source": [
    "searchLen=df.groupby(['session_id']).sum()['n_results']\n",
    "searchLen.head()"
   ]
  },
  {
   "cell_type": "code",
   "execution_count": 445,
   "metadata": {},
   "outputs": [
    {
     "data": {
      "text/html": [
       "<div>\n",
       "<style scoped>\n",
       "    .dataframe tbody tr th:only-of-type {\n",
       "        vertical-align: middle;\n",
       "    }\n",
       "\n",
       "    .dataframe tbody tr th {\n",
       "        vertical-align: top;\n",
       "    }\n",
       "\n",
       "    .dataframe thead th {\n",
       "        text-align: right;\n",
       "    }\n",
       "</style>\n",
       "<table border=\"1\" class=\"dataframe\">\n",
       "  <thead>\n",
       "    <tr style=\"text-align: right;\">\n",
       "      <th></th>\n",
       "      <th>session_id</th>\n",
       "      <th>timestamp_x</th>\n",
       "      <th>timestamp_y</th>\n",
       "      <th>session_lenght</th>\n",
       "      <th>e</th>\n",
       "      <th>bin</th>\n",
       "      <th>n_results</th>\n",
       "      <th>0</th>\n",
       "    </tr>\n",
       "  </thead>\n",
       "  <tbody>\n",
       "    <tr>\n",
       "      <th>0</th>\n",
       "      <td>0000cbcb67c19c45</td>\n",
       "      <td>2016-03-03 15:20:45</td>\n",
       "      <td>2016-03-03 15:20:45</td>\n",
       "      <td>00:00:00</td>\n",
       "      <td>1</td>\n",
       "      <td>0.0</td>\n",
       "      <td>20.0</td>\n",
       "      <td>0.0</td>\n",
       "    </tr>\n",
       "    <tr>\n",
       "      <th>1</th>\n",
       "      <td>0001382e027b2ea4</td>\n",
       "      <td>2016-03-07 08:49:55</td>\n",
       "      <td>2016-03-07 08:54:58</td>\n",
       "      <td>00:05:03</td>\n",
       "      <td>1</td>\n",
       "      <td>360.0</td>\n",
       "      <td>18.0</td>\n",
       "      <td>300.0</td>\n",
       "    </tr>\n",
       "    <tr>\n",
       "      <th>2</th>\n",
       "      <td>0001e8bb90445cb2</td>\n",
       "      <td>2016-03-05 09:24:15</td>\n",
       "      <td>2016-03-05 09:31:30</td>\n",
       "      <td>00:07:15</td>\n",
       "      <td>1</td>\n",
       "      <td>480.0</td>\n",
       "      <td>20.0</td>\n",
       "      <td>420.0</td>\n",
       "    </tr>\n",
       "    <tr>\n",
       "      <th>3</th>\n",
       "      <td>000216cf18ae1ab1</td>\n",
       "      <td>2016-03-08 16:19:46</td>\n",
       "      <td>2016-03-08 16:20:44</td>\n",
       "      <td>00:00:58</td>\n",
       "      <td>1</td>\n",
       "      <td>60.0</td>\n",
       "      <td>120.0</td>\n",
       "      <td>0.0</td>\n",
       "    </tr>\n",
       "    <tr>\n",
       "      <th>4</th>\n",
       "      <td>000527f711d50dfc</td>\n",
       "      <td>2016-03-08 05:33:00</td>\n",
       "      <td>2016-03-08 05:33:00</td>\n",
       "      <td>00:00:00</td>\n",
       "      <td>1</td>\n",
       "      <td>0.0</td>\n",
       "      <td>1.0</td>\n",
       "      <td>0.0</td>\n",
       "    </tr>\n",
       "  </tbody>\n",
       "</table>\n",
       "</div>"
      ],
      "text/plain": [
       "         session_id         timestamp_x         timestamp_y session_lenght  e  \\\n",
       "0  0000cbcb67c19c45 2016-03-03 15:20:45 2016-03-03 15:20:45       00:00:00  1   \n",
       "1  0001382e027b2ea4 2016-03-07 08:49:55 2016-03-07 08:54:58       00:05:03  1   \n",
       "2  0001e8bb90445cb2 2016-03-05 09:24:15 2016-03-05 09:31:30       00:07:15  1   \n",
       "3  000216cf18ae1ab1 2016-03-08 16:19:46 2016-03-08 16:20:44       00:00:58  1   \n",
       "4  000527f711d50dfc 2016-03-08 05:33:00 2016-03-08 05:33:00       00:00:00  1   \n",
       "\n",
       "     bin  n_results      0  \n",
       "0    0.0       20.0    0.0  \n",
       "1  360.0       18.0  300.0  \n",
       "2  480.0       20.0  420.0  \n",
       "3   60.0      120.0    0.0  \n",
       "4    0.0        1.0    0.0  "
      ]
     },
     "execution_count": 445,
     "metadata": {},
     "output_type": "execute_result"
    }
   ],
   "source": [
    "ses=pd.merge(session, searchLen, on=['session_id'])\n",
    "ses=pd.merge(ses, checkinLen,on=['session_id'])\n",
    "ses.head()"
   ]
  },
  {
   "cell_type": "code",
   "execution_count": 446,
   "metadata": {},
   "outputs": [
    {
     "data": {
      "text/html": [
       "<div>\n",
       "<style scoped>\n",
       "    .dataframe tbody tr th:only-of-type {\n",
       "        vertical-align: middle;\n",
       "    }\n",
       "\n",
       "    .dataframe tbody tr th {\n",
       "        vertical-align: top;\n",
       "    }\n",
       "\n",
       "    .dataframe thead th {\n",
       "        text-align: right;\n",
       "    }\n",
       "</style>\n",
       "<table border=\"1\" class=\"dataframe\">\n",
       "  <thead>\n",
       "    <tr style=\"text-align: right;\">\n",
       "      <th></th>\n",
       "      <th>bin</th>\n",
       "      <th>total_results</th>\n",
       "      <th>total_checkin</th>\n",
       "      <th>session_lenght_seconds</th>\n",
       "    </tr>\n",
       "  </thead>\n",
       "  <tbody>\n",
       "    <tr>\n",
       "      <th>0</th>\n",
       "      <td>0.0</td>\n",
       "      <td>20.0</td>\n",
       "      <td>0.0</td>\n",
       "      <td>0.0</td>\n",
       "    </tr>\n",
       "    <tr>\n",
       "      <th>1</th>\n",
       "      <td>360.0</td>\n",
       "      <td>18.0</td>\n",
       "      <td>300.0</td>\n",
       "      <td>303.0</td>\n",
       "    </tr>\n",
       "    <tr>\n",
       "      <th>2</th>\n",
       "      <td>480.0</td>\n",
       "      <td>20.0</td>\n",
       "      <td>420.0</td>\n",
       "      <td>435.0</td>\n",
       "    </tr>\n",
       "    <tr>\n",
       "      <th>3</th>\n",
       "      <td>60.0</td>\n",
       "      <td>120.0</td>\n",
       "      <td>0.0</td>\n",
       "      <td>58.0</td>\n",
       "    </tr>\n",
       "    <tr>\n",
       "      <th>4</th>\n",
       "      <td>0.0</td>\n",
       "      <td>1.0</td>\n",
       "      <td>0.0</td>\n",
       "      <td>0.0</td>\n",
       "    </tr>\n",
       "  </tbody>\n",
       "</table>\n",
       "</div>"
      ],
      "text/plain": [
       "     bin  total_results  total_checkin  session_lenght_seconds\n",
       "0    0.0           20.0            0.0                     0.0\n",
       "1  360.0           18.0          300.0                   303.0\n",
       "2  480.0           20.0          420.0                   435.0\n",
       "3   60.0          120.0            0.0                    58.0\n",
       "4    0.0            1.0            0.0                     0.0"
      ]
     },
     "execution_count": 446,
     "metadata": {},
     "output_type": "execute_result"
    }
   ],
   "source": [
    "ses['session_lenght_seconds']=ses['session_lenght'].apply(lambda x: x/np.timedelta64(1, 's'))\n",
    "ses=ses[['bin','n_results',0,'session_lenght_seconds']]\n",
    "ses.rename(columns={'n_results': 'total_results', 0: 'total_checkin'}, inplace=True)\n",
    "ses.head()"
   ]
  },
  {
   "cell_type": "code",
   "execution_count": 447,
   "metadata": {},
   "outputs": [
    {
     "data": {
      "text/plain": [
       "<matplotlib.axes._subplots.AxesSubplot at 0x15acc0febe0>"
      ]
     },
     "execution_count": 447,
     "metadata": {},
     "output_type": "execute_result"
    },
    {
     "data": {
      "image/png": "[encoded data removed]",
      "text/plain": [
       "<Figure size 432x288 with 2 Axes>"
      ]
     },
     "metadata": {
      "needs_background": "light"
     },
     "output_type": "display_data"
    }
   ],
   "source": [
    "sns.heatmap(ses[['bin','total_results','total_checkin','session_lenght_seconds']].corr(),cmap='coolwarm',annot=True)"
   ]
  },
  {
   "cell_type": "markdown",
   "metadata": {},
   "source": [
    "# Summary\n",
    "* group A has bigger clickthrough rate compared to group B\n",
    "* groups A and B have almost the same zero results rate\n",
    "* most of the visited pages, were the 1st one, suggested after the search action was performed\n",
    "* only people from group b, were doing one action per session\n",
    "* most of the sessions had time lenghts between 1s and 480 sec\n",
    "* there is small relation between session lenght and total checkin lenght\n",
    "* seems like there is big correlation between total_search_results and total_checkin_time with custom made bins\n"
   ]
  },
  {
   "cell_type": "code",
   "execution_count": null,
   "metadata": {},
   "outputs": [],
   "source": []
  }
 ],
 "metadata": {
  "kernelspec": {
   "display_name": "Python 3",
   "language": "python",
   "name": "python3"
  },
  "language_info": {
   "codemirror_mode": {
    "name": "ipython",
    "version": 3
   },
   "file_extension": ".py",
   "mimetype": "text/x-python",
   "name": "python",
   "nbconvert_exporter": "python",
   "pygments_lexer": "ipython3",
   "version": "3.7.3"
  }
 },
 "nbformat": 4,
 "nbformat_minor": 2
}
